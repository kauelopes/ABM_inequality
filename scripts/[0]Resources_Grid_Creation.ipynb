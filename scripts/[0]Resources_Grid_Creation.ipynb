{
 "cells": [
  {
   "cell_type": "code",
   "execution_count": 238,
   "metadata": {
    "collapsed": true
   },
   "outputs": [],
   "source": [
    "import numpy as np\n",
    "import matplotlib\n",
    "import matplotlib.pyplot as plt\n",
    "import time\n",
    "from IPython.display import clear_output"
   ]
  },
  {
   "cell_type": "code",
   "execution_count": 239,
   "metadata": {
    "collapsed": true
   },
   "outputs": [],
   "source": [
    "def grid_rayleigh(size,mu):\n",
    "    res = np.random.rayleigh(mu,(size,size)).astype(np.int)\n",
    "    res = res.clip(min=0)\n",
    "    return res"
   ]
  },
  {
   "cell_type": "code",
   "execution_count": 240,
   "metadata": {
    "collapsed": true
   },
   "outputs": [],
   "source": [
    "def grid_random_mask(size,n_clusters,cluster_size):\n",
    "    if cluster_size>size:\n",
    "        return None\n",
    "    res = np.zeros((size+2*cluster_size,size+2*cluster_size),dtype=np.int)\n",
    "    cluster = np.ones((cluster_size,cluster_size),dtype=np.int)\n",
    "    for i in range(n_clusters):\n",
    "        x,y = np.random.randint(cluster_size,size+cluster_size,2)\n",
    "        res[x:x+cluster_size,y:y+cluster_size] = cluster\n",
    "    \n",
    "    return res[cluster_size:cluster_size+size,cluster_size:cluster_size+size]"
   ]
  },
  {
   "cell_type": "code",
   "execution_count": 241,
   "metadata": {
    "collapsed": true
   },
   "outputs": [],
   "source": [
    "def grid_random_points_mask(size, n):\n",
    "    res = np.zeros((size,size))\n",
    "    random_points = np.random.randint(0,size,(n,2))\n",
    "    for p in random_points:\n",
    "        res[p[0]][p[1]] = 1\n",
    "    return res"
   ]
  },
  {
   "cell_type": "code",
   "execution_count": 242,
   "metadata": {
    "scrolled": true
   },
   "outputs": [
    {
     "data": {
      "image/png": "[encoded data removed]",
      "text/plain": [
       "<Figure size 432x288 with 1 Axes>"
      ]
     },
     "metadata": {},
     "output_type": "display_data"
    }
   ],
   "source": [
    "tamanho = 50\n",
    "step = 1 # ajustar no i do loop\n",
    "mu_rayleigh = 1.4\n",
    "depreciation = 1\n",
    "\n",
    "cluster_n = 5\n",
    "cluster_size = 10\n",
    "cluster_renew_time = 5\n",
    "\n",
    "random_points_number = 50\n",
    "\n",
    "\n",
    "mask = grid_random_mask(tamanho,cluster_n,cluster_size)\n",
    "harvest = np.zeros((tamanho,tamanho))\n",
    "\n",
    "for i in range(100):\n",
    "\n",
    "    harvest = harvest - int(depreciation)\n",
    "    harvest.clip(min=0)\n",
    "    full_harvest = grid_rayleigh(tamanho, mu_rayleigh)\n",
    "    rnd_mask = np.logical_or(mask,grid_random_points_mask(tamanho,random_points_number))\n",
    "    harvest += full_harvest*rnd_mask\n",
    "    \n",
    "    \n",
    "    \n",
    "    if i%cluster_renew_time == 0:\n",
    "        mask = grid_random_mask(tamanho,cluster_n,cluster_size)\n",
    "    \n",
    "    fig, ax = plt.subplots()\n",
    "    im = ax.imshow(harvest)\n",
    "\n",
    "\n",
    "    fig.tight_layout()\n",
    "\n",
    "    time.sleep(1)\n",
    "    plt.show()\n",
    "    clear_output(wait=True)\n",
    "\n",
    "\n"
   ]
  },
  {
   "cell_type": "code",
   "execution_count": 217,
   "metadata": {
    "collapsed": true
   },
   "outputs": [],
   "source": [
    "a = np.asmatrix([[0,1],[1,0]])\n",
    "b = np.asmatrix([[0,0],[1,0]])"
   ]
  },
  {
   "cell_type": "code",
   "execution_count": 218,
   "metadata": {},
   "outputs": [
    {
     "data": {
      "text/plain": [
       "matrix([[False,  True],\n",
       "        [ True, False]], dtype=bool)"
      ]
     },
     "execution_count": 218,
     "metadata": {},
     "output_type": "execute_result"
    }
   ],
   "source": [
    "np.logical_or(a,b)"
   ]
  },
  {
   "cell_type": "code",
   "execution_count": 136,
   "metadata": {},
   "outputs": [
    {
     "ename": "KeyboardInterrupt",
     "evalue": "",
     "output_type": "error",
     "traceback": [
      "\u001b[0;31m---------------------------------------------------------------------------\u001b[0m",
      "\u001b[0;31mKeyboardInterrupt\u001b[0m                         Traceback (most recent call last)",
      "\u001b[0;32m<ipython-input-136-e48a9d9b097b>\u001b[0m in \u001b[0;36m<module>\u001b[0;34m()\u001b[0m\n\u001b[1;32m     14\u001b[0m     \u001b[0mfig\u001b[0m\u001b[0;34m.\u001b[0m\u001b[0mtight_layout\u001b[0m\u001b[0;34m(\u001b[0m\u001b[0;34m)\u001b[0m\u001b[0;34m\u001b[0m\u001b[0m\n\u001b[1;32m     15\u001b[0m \u001b[0;34m\u001b[0m\u001b[0m\n\u001b[0;32m---> 16\u001b[0;31m     \u001b[0mtime\u001b[0m\u001b[0;34m.\u001b[0m\u001b[0msleep\u001b[0m\u001b[0;34m(\u001b[0m\u001b[0;36m0.5\u001b[0m\u001b[0;34m)\u001b[0m\u001b[0;34m\u001b[0m\u001b[0m\n\u001b[0m\u001b[1;32m     17\u001b[0m     \u001b[0mplt\u001b[0m\u001b[0;34m.\u001b[0m\u001b[0mshow\u001b[0m\u001b[0;34m(\u001b[0m\u001b[0;34m)\u001b[0m\u001b[0;34m\u001b[0m\u001b[0m\n\u001b[1;32m     18\u001b[0m     \u001b[0mmu\u001b[0m \u001b[0;34m=\u001b[0m \u001b[0mabs\u001b[0m\u001b[0;34m(\u001b[0m\u001b[0mnp\u001b[0m\u001b[0;34m.\u001b[0m\u001b[0msin\u001b[0m\u001b[0;34m(\u001b[0m\u001b[0mi\u001b[0m\u001b[0;34m/\u001b[0m\u001b[0;36m5\u001b[0m\u001b[0;34m)\u001b[0m\u001b[0;34m+\u001b[0m\u001b[0;36m1\u001b[0m\u001b[0;34m)\u001b[0m\u001b[0;34m\u001b[0m\u001b[0m\n",
      "\u001b[0;31mKeyboardInterrupt\u001b[0m: "
     ]
    }
   ],
   "source": [
    "tamanho = 100\n",
    "tela = np.random.rayleigh(0.1,(tamanho,tamanho))\n",
    "tela = telanova.astype(np.int)\n",
    "tela = telanova-1\n",
    "tela = telanova.clip(min=0)\n",
    "for i in range(100):\n",
    "\n",
    "\n",
    "\n",
    "    fig, ax = plt.subplots()\n",
    "    im = ax.imshow(tela)\n",
    "\n",
    "\n",
    "    fig.tight_layout()\n",
    "\n",
    "    time.sleep(0.5)\n",
    "    plt.show()\n",
    "    mu = abs(np.sin(i/5)+1)\n",
    "    telanova = np.random.rayleigh(mu,(tamanho,tamanho))\n",
    "    telanova = telanova.astype(np.int)\n",
    "    telanova = telanova-1\n",
    "    tela = tela + telanova\n",
    "    tela = tela.clip(min=0)\n",
    "\n",
    "\n",
    "    print(tela)\n",
    "    print(mu)\n",
    "    print(np.mean(tela))\n",
    "    clear_output(wait=True)\n",
    "\n",
    "\n",
    "\n"
   ]
  },
  {
   "cell_type": "code",
   "execution_count": 169,
   "metadata": {
    "collapsed": true
   },
   "outputs": [],
   "source": [
    "a = np.zeros((10,10))\n",
    "a[0:4,0:4] = np.ones((4,4))"
   ]
  },
  {
   "cell_type": "code",
   "execution_count": null,
   "metadata": {
    "collapsed": true
   },
   "outputs": [],
   "source": []
  }
 ],
 "metadata": {
  "kernelspec": {
   "display_name": "Python 3",
   "language": "python",
   "name": "python3"
  },
  "language_info": {
   "codemirror_mode": {
    "name": "ipython",
    "version": 3
   },
   "file_extension": ".py",
   "mimetype": "text/x-python",
   "name": "python",
   "nbconvert_exporter": "python",
   "pygments_lexer": "ipython3",
   "version": "3.6.3"
  }
 },
 "nbformat": 4,
 "nbformat_minor": 2
}
